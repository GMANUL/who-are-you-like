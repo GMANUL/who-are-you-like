{
 "cells": [
  {
   "cell_type": "code",
   "execution_count": null,
   "id": "d765fd5a",
   "metadata": {},
   "outputs": [],
   "source": [
    "import os\n",
    "os.environ['KMP_DUPLICATE_LIB_OK'] = 'True'\n",
    "from torch.utils.data import DataLoader\n",
    "from torchvision import transforms, datasets\n",
    "from torchvision.models import mobilenet_v3_small, MobileNet_V3_Small_Weights\n",
    "from facenet_pytorch import InceptionResnetV1\n",
    "import torch.nn as nn\n",
    "import torch\n",
    "import tqdm\n",
    "import numpy as np\n",
    "import faiss\n",
    "device = torch.device('cuda' if torch.cuda.is_available() else 'cpu')"
   ]
  },
  {
   "cell_type": "code",
   "execution_count": 3,
   "id": "0ba4300a",
   "metadata": {},
   "outputs": [],
   "source": [
    "embedding_model = InceptionResnetV1(pretrained='vggface2', classify=False).eval()\n",
    "transform = transforms.Compose([\n",
    "    transforms.Resize((160, 160)),\n",
    "    transforms.ToTensor(),\n",
    "    transforms.Normalize(mean=[0.5, 0.5, 0.5], std=[0.5, 0.5, 0.5])\n",
    "])"
   ]
  },
  {
   "cell_type": "code",
   "execution_count": 27,
   "id": "d9aac8c7",
   "metadata": {},
   "outputs": [],
   "source": [
    "def get_mean_embeddings(dataloader, dataset, model):\n",
    "    class_embeddings = {}\n",
    "    class_names = dataset.classes\n",
    "\n",
    "    class_embeddings = {\n",
    "        int(class_idx): [] for class_idx in class_names\n",
    "    }\n",
    "\n",
    "    with torch.no_grad():\n",
    "        for images, labels in tqdm.tqdm(dataloader):\n",
    "            images = images.to(device)\n",
    "            embeddings = model(images)\n",
    "            \n",
    "            for emb, label in zip(embeddings, labels):\n",
    "                class_name = int(class_names[label.item()])\n",
    "                class_embeddings[class_name].append(emb.cpu().numpy())\n",
    "\n",
    "    avg_embeddings = {\n",
    "        class_idx: np.mean(embeddings, axis=0)\n",
    "        for class_idx, embeddings in sorted(class_embeddings.items())\n",
    "    }\n",
    "\n",
    "    return avg_embeddings"
   ]
  },
  {
   "cell_type": "code",
   "execution_count": 29,
   "id": "7e659fba",
   "metadata": {},
   "outputs": [],
   "source": [
    "def save_embeddings(file_path, embeddings):\n",
    "    np.savez_compressed(\n",
    "        file_path,\n",
    "        names=np.array(list(embeddings.keys())),\n",
    "        embeddings=np.stack(list(embeddings.values()))\n",
    "    )\n",
    "def load_embeddings(file_path):\n",
    "    saved_data = np.load(file_path)\n",
    "    embeddings = dict(zip(saved_data['names'], saved_data['embeddings']))\n",
    "    return embeddings\n",
    "def create_faiss_index(embeddings: dict) -> faiss.IndexFlatIP:\n",
    "    embeddings = {int(k): v for k, v in embeddings.items()}\n",
    "    embeddings = dict(sorted(embeddings.items()))\n",
    "    \n",
    "    embedding_matrix = np.stack(list(embeddings.values())).astype('float32')\n",
    "    faiss.normalize_L2(embedding_matrix)\n",
    "    embedding_dim = embedding_matrix.shape[1]\n",
    "    index = faiss.IndexFlatIP(embedding_dim)\n",
    "    index.add(embedding_matrix)\n",
    "    return index"
   ]
  },
  {
   "cell_type": "code",
   "execution_count": 5,
   "id": "e2cd34a7",
   "metadata": {},
   "outputs": [],
   "source": [
    "dataset = datasets.ImageFolder(\n",
    "    root=\"C:/face_dataset/imdb_train_large\",\n",
    "    transform=transform\n",
    ")\n",
    "dataloader = DataLoader(dataset, batch_size=32, shuffle=False)"
   ]
  },
  {
   "cell_type": "code",
   "execution_count": null,
   "id": "5185cfb2",
   "metadata": {},
   "outputs": [
    {
     "name": "stderr",
     "output_type": "stream",
     "text": [
      "100%|██████████| 5322/5322 [43:34<00:00,  2.04it/s]\n"
     ]
    }
   ],
   "source": [
    "mean_embeddings = get_mean_embeddings(dataloader, dataset, embedding_model)\n",
    "save_embeddings('C:/Proga/course_work/notebooks/data/large_embeddings.npz', mean_embeddings)"
   ]
  },
  {
   "cell_type": "code",
   "execution_count": 54,
   "id": "8619d588",
   "metadata": {},
   "outputs": [],
   "source": [
    "mean_embeddings=load_embeddings('data/large_embeddings.npz')\n",
    "faiss_index = create_faiss_index(mean_embeddings)\n",
    "faiss.write_index(faiss_index, \"data/large_embeddings.faiss\")"
   ]
  },
  {
   "cell_type": "code",
   "execution_count": 31,
   "id": "8a284205",
   "metadata": {},
   "outputs": [],
   "source": [
    "loaded_index = faiss.read_index(\"data/large_embeddings.faiss\")"
   ]
  },
  {
   "cell_type": "code",
   "execution_count": 12,
   "id": "22873858",
   "metadata": {},
   "outputs": [],
   "source": [
    "test_dataset = datasets.ImageFolder(\n",
    "    root=\"C:/face_dataset/imdb_test_large\",\n",
    "    transform=transform\n",
    ")\n",
    "test_dataloader = DataLoader(test_dataset, batch_size=32, shuffle=False)"
   ]
  },
  {
   "cell_type": "code",
   "execution_count": 32,
   "id": "b5b93a2c",
   "metadata": {},
   "outputs": [
    {
     "name": "stderr",
     "output_type": "stream",
     "text": [
      "100%|██████████| 485/485 [03:01<00:00,  2.67it/s]\n"
     ]
    }
   ],
   "source": [
    "test_embeddings = get_mean_embeddings(test_dataloader, test_dataset, embedding_model)\n",
    "save_embeddings('C:/face_dataset/large_test_embeddings.npz', test_embeddings)"
   ]
  },
  {
   "cell_type": "code",
   "execution_count": 33,
   "id": "796b80e6",
   "metadata": {},
   "outputs": [],
   "source": [
    "test_embeddings = load_embeddings('C:/face_dataset/large_test_embeddings.npz')"
   ]
  },
  {
   "cell_type": "code",
   "execution_count": 34,
   "id": "4cef9b56",
   "metadata": {},
   "outputs": [],
   "source": [
    "def top_accuracy_faiss(loaded_index, test_embeddings, top_len = 5):\n",
    "    test_matrix = np.stack(list(test_embeddings.values())).astype('float32')\n",
    "    names_list = list(int(name) for name in test_embeddings.keys())\n",
    "\n",
    "    faiss.normalize_L2(test_matrix)\n",
    "    \n",
    "    D, I = loaded_index.search(test_matrix, top_len)\n",
    "\n",
    "    unfinded_celebs = []\n",
    "    correct = 0\n",
    "    total = len(test_embeddings)\n",
    "    \n",
    "    true_indices = np.arange(len(test_embeddings))\n",
    "    \n",
    "    for i in range(len(test_matrix)):\n",
    "        if np.isin(true_indices[i], I[i]).any():\n",
    "            correct += 1\n",
    "        else:\n",
    "            unfinded_celebs.append(names_list[i])\n",
    "    \n",
    "    return correct / total, unfinded_celebs"
   ]
  },
  {
   "cell_type": "code",
   "execution_count": 41,
   "id": "66f1c987",
   "metadata": {},
   "outputs": [
    {
     "name": "stdout",
     "output_type": "stream",
     "text": [
      "Top-5 Accuracy: 96.62%\n"
     ]
    }
   ],
   "source": [
    "accuracy, missing_celebs = top_accuracy_faiss(loaded_index, test_embeddings, 10)\n",
    "print(f\"Top-5 Accuracy: {accuracy:.2%}\")"
   ]
  },
  {
   "cell_type": "code",
   "execution_count": 42,
   "id": "8d23e58c",
   "metadata": {},
   "outputs": [],
   "source": [
    "class MobileNetV3Embedder(nn.Module):\n",
    "    def __init__(self):\n",
    "        super().__init__()\n",
    "        self.base_model = mobilenet_v3_small(pretrained=True, weights=MobileNet_V3_Small_Weights.DEFAULT)\n",
    "        self.base_model.classifier = nn.Identity()\n",
    "    def forward(self, x):\n",
    "        x = self.base_model(x)\n",
    "        return x\n",
    "\n",
    "mobilenet_model = MobileNetV3Embedder()\n",
    "mobilenet_transform = transforms.Compose([\n",
    "    transforms.Resize((224, 224)),\n",
    "    transforms.ToTensor(),\n",
    "    transforms.Normalize(mean=[0.485, 0.456, 0.406], std=[0.229, 0.224, 0.225])\n",
    "])"
   ]
  },
  {
   "cell_type": "code",
   "execution_count": 43,
   "id": "5448041f",
   "metadata": {},
   "outputs": [],
   "source": [
    "mobilenet_dataset = datasets.ImageFolder(\n",
    "    root=\"C:/face_dataset/imdb_train_large\",\n",
    "    transform=mobilenet_transform\n",
    ")\n",
    "mobilenet_dataloader = DataLoader(mobilenet_dataset, batch_size=32, shuffle=False)"
   ]
  },
  {
   "cell_type": "code",
   "execution_count": 44,
   "id": "7faaf878",
   "metadata": {},
   "outputs": [
    {
     "name": "stderr",
     "output_type": "stream",
     "text": [
      "100%|██████████| 5322/5322 [17:21<00:00,  5.11it/s]\n"
     ]
    }
   ],
   "source": [
    "mobile_mean_embeddings = get_mean_embeddings(mobilenet_dataloader, mobilenet_dataset, mobilenet_model)"
   ]
  },
  {
   "cell_type": "code",
   "execution_count": 45,
   "id": "71c87e06",
   "metadata": {},
   "outputs": [],
   "source": [
    "mobile_faiss_index = create_faiss_index(mobile_mean_embeddings)\n",
    "faiss.write_index(mobile_faiss_index, \"data/large_mobile_embeddings.faiss\")"
   ]
  },
  {
   "cell_type": "code",
   "execution_count": 46,
   "id": "6d863dde",
   "metadata": {},
   "outputs": [
    {
     "data": {
      "text/plain": [
       "15495"
      ]
     },
     "execution_count": 46,
     "metadata": {},
     "output_type": "execute_result"
    }
   ],
   "source": [
    "mobile_faiss_index = faiss.read_index(\"data/large_mobile_embeddings.faiss\")\n",
    "mobile_faiss_index.ntotal"
   ]
  },
  {
   "cell_type": "code",
   "execution_count": 47,
   "id": "b9a7d168",
   "metadata": {},
   "outputs": [],
   "source": [
    "mobilenet_test_dataset = datasets.ImageFolder(\n",
    "    root=\"C:/face_dataset/imdb_test_large\",\n",
    "    transform=mobilenet_transform\n",
    ")\n",
    "mobilenet_test_dataloader = DataLoader(mobilenet_test_dataset, batch_size=32, shuffle=False)\n",
    "mobile_faiss_index = faiss.read_index(\"data/large_mobile_embeddings.faiss\")"
   ]
  },
  {
   "cell_type": "code",
   "execution_count": 48,
   "id": "74f041eb",
   "metadata": {},
   "outputs": [
    {
     "name": "stderr",
     "output_type": "stream",
     "text": [
      "100%|██████████| 485/485 [00:50<00:00,  9.65it/s]\n"
     ]
    }
   ],
   "source": [
    "mobile_test_embeddings = get_mean_embeddings(mobilenet_test_dataloader, mobilenet_test_dataset, mobilenet_model)\n",
    "save_embeddings('C:/face_dataset/large_mobile_test_embeddings.npz', mobile_test_embeddings)"
   ]
  },
  {
   "cell_type": "code",
   "execution_count": 49,
   "id": "c69bd98b",
   "metadata": {},
   "outputs": [
    {
     "name": "stdout",
     "output_type": "stream",
     "text": [
      "Top-5 Accuracy: 74.06%\n"
     ]
    }
   ],
   "source": [
    "accuracy, missing_celebs = top_accuracy_faiss(mobile_faiss_index, mobile_test_embeddings, 10)\n",
    "print(f\"Top-5 Accuracy: {accuracy:.2%}\")"
   ]
  },
  {
   "cell_type": "code",
   "execution_count": 52,
   "id": "95fb110f",
   "metadata": {},
   "outputs": [],
   "source": [
    "import pandas as pd\n",
    "celebs_df = pd.read_csv('data/large_celeb_names.csv')\n",
    "missing_df = celebs_df[celebs_df['id'].isin(missing_celebs)].copy()"
   ]
  },
  {
   "cell_type": "code",
   "execution_count": 53,
   "id": "b2bb8114",
   "metadata": {},
   "outputs": [
    {
     "data": {
      "image/png": "[encoded data removed]",
      "text/plain": [
       "<Figure size 2000x1200 with 1 Axes>"
      ]
     },
     "metadata": {},
     "output_type": "display_data"
    }
   ],
   "source": [
    "import matplotlib.pyplot as plt\n",
    "plt.figure(figsize=(20, 12))\n",
    "missing_df['number_of_images'].value_counts().sort_index().plot(kind='bar')\n",
    "\n",
    "for i, count in enumerate(missing_df['number_of_images'].value_counts().sort_index()):\n",
    "    plt.text(i, count + 5, str(count), ha='center')\n",
    "plt.show()"
   ]
  }
 ],
 "metadata": {
  "kernelspec": {
   "display_name": ".venv",
   "language": "python",
   "name": "python3"
  },
  "language_info": {
   "codemirror_mode": {
    "name": "ipython",
    "version": 3
   },
   "file_extension": ".py",
   "mimetype": "text/x-python",
   "name": "python",
   "nbconvert_exporter": "python",
   "pygments_lexer": "ipython3",
   "version": "3.13.0"
  }
 },
 "nbformat": 4,
 "nbformat_minor": 5
}
