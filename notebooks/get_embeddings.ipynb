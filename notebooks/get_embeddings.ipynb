{
 "cells": [
  {
   "cell_type": "code",
   "execution_count": null,
   "id": "d765fd5a",
   "metadata": {},
   "outputs": [],
   "source": [
    "from torch.utils.data import DataLoader\n",
    "from torchvision import transforms, datasets\n",
    "from facenet_pytorch import InceptionResnetV1\n",
    "import torch\n",
    "import tqdm\n",
    "import numpy as np\n",
    "import faiss"
   ]
  },
  {
   "cell_type": "code",
   "execution_count": 6,
   "id": "0ba4300a",
   "metadata": {},
   "outputs": [],
   "source": [
    "device = torch.device('cuda' if torch.cuda.is_available() else 'cpu')\n",
    "embedding_model = InceptionResnetV1(pretrained='vggface2', classify=False).eval()\n",
    "transform = transforms.Compose([\n",
    "    transforms.Resize((160, 160)),\n",
    "    transforms.ToTensor(),\n",
    "    transforms.Normalize(mean=[0.5, 0.5, 0.5], std=[0.5, 0.5, 0.5])\n",
    "])"
   ]
  },
  {
   "cell_type": "code",
   "execution_count": null,
   "id": "d9aac8c7",
   "metadata": {},
   "outputs": [],
   "source": [
    "def get_mean_embeddings(dataloader, dataset, model):\n",
    "    class_embeddings = {}\n",
    "    class_names = dataset.classes\n",
    "\n",
    "    class_embeddings = {\n",
    "        class_idx: [] for class_idx in class_names\n",
    "    }\n",
    "\n",
    "    with torch.no_grad():\n",
    "        for images, labels in tqdm.tqdm(dataloader):\n",
    "            images = images.to(device)\n",
    "            embeddings = model(images)\n",
    "            \n",
    "            for emb, label in zip(embeddings, labels):\n",
    "                class_name = class_names[label.item()]\n",
    "                class_embeddings[class_name].append(emb.cpu().numpy())\n",
    "\n",
    "    avg_embeddings = {}\n",
    "    for class_idx, embeddings in class_embeddings.items():\n",
    "        avg_emb = np.mean(embeddings, axis=0)\n",
    "        avg_embeddings[class_idx] = avg_emb\n",
    "    \n",
    "    return avg_embeddings"
   ]
  },
  {
   "cell_type": "code",
   "execution_count": 8,
   "id": "e2cd34a7",
   "metadata": {},
   "outputs": [],
   "source": [
    "dataset = datasets.ImageFolder(\n",
    "    root=\"C:/face_dataset/imdb_train_newindex\",\n",
    "    transform=transform\n",
    ")\n",
    "dataloader = DataLoader(dataset, batch_size=32, shuffle=False)"
   ]
  },
  {
   "cell_type": "code",
   "execution_count": null,
   "id": "5185cfb2",
   "metadata": {},
   "outputs": [],
   "source": [
    "mean_embeddings = get_mean_embeddings(dataloader, dataset, embedding_model)"
   ]
  },
  {
   "cell_type": "code",
   "execution_count": 10,
   "id": "7e659fba",
   "metadata": {},
   "outputs": [],
   "source": [
    "def save_embeddings(file_path, embeddings):\n",
    "    np.savez_compressed(\n",
    "        file_path,\n",
    "        names=np.array(list(embeddings.keys())),\n",
    "        embeddings=np.stack(list(embeddings.values()))\n",
    "    )\n",
    "def load_embeddings(file_path):\n",
    "    saved_data = np.load(file_path)\n",
    "    embeddings = dict(zip(saved_data['names'], saved_data['embeddings']))\n",
    "    return embeddings\n",
    "def create_faiss_index(embeddings: dict) -> faiss.IndexFlatIP:\n",
    "    embedding_matrix = np.stack(list(embeddings.values())).astype('float32')\n",
    "    faiss.normalize_L2(embedding_matrix)\n",
    "    embedding_dim = embedding_matrix.shape[1]\n",
    "    index = faiss.IndexFlatIP(embedding_dim)\n",
    "    index.add(embedding_matrix)\n",
    "    return index"
   ]
  },
  {
   "cell_type": "code",
   "execution_count": 14,
   "id": "8a284205",
   "metadata": {},
   "outputs": [],
   "source": [
    "faiss_index = create_faiss_index(mean_embeddings)\n",
    "faiss.write_index(faiss_index, \"../imdb_dataset/embeddings.faiss\")\n",
    "loaded_index = faiss.read_index(\"../imdb_dataset/embeddings.faiss\")"
   ]
  },
  {
   "cell_type": "code",
   "execution_count": 13,
   "id": "22873858",
   "metadata": {},
   "outputs": [],
   "source": [
    "test_dataset = datasets.ImageFolder(\n",
    "    root=\"C:/face_dataset/imdb_test_newindex\",\n",
    "    transform=transform\n",
    ")\n",
    "test_dataloader = DataLoader(test_dataset, batch_size=32, shuffle=False)"
   ]
  },
  {
   "cell_type": "code",
   "execution_count": null,
   "id": "b5b93a2c",
   "metadata": {},
   "outputs": [],
   "source": [
    "test_embeddings = get_mean_embeddings(test_dataloader, test_dataset, embedding_model)\n",
    "save_embeddings('C:/face_dataset/new_test_embeddings.npz', test_embeddings)"
   ]
  },
  {
   "cell_type": "code",
   "execution_count": 17,
   "id": "796b80e6",
   "metadata": {},
   "outputs": [],
   "source": [
    "test_embeddings = load_embeddings('C:/face_dataset/new_test_embeddings.npz')"
   ]
  },
  {
   "cell_type": "code",
   "execution_count": null,
   "id": "4cef9b56",
   "metadata": {},
   "outputs": [],
   "source": [
    "def top_accuracy_faiss(loaded_index, test_embeddings, top_len = 5):\n",
    "    test_matrix = np.stack(list(test_embeddings.values())).astype('float32')\n",
    "    names_list = list(int(name) for name in test_embeddings.keys())\n",
    "\n",
    "    faiss.normalize_L2(test_matrix)\n",
    "    \n",
    "    D, I = loaded_index.search(test_matrix, top_len)\n",
    "\n",
    "    unfinded_celebs = []\n",
    "    correct = 0\n",
    "    total = len(test_embeddings)\n",
    "    \n",
    "    true_indices = np.arange(len(test_embeddings))\n",
    "    \n",
    "    for i in range(len(test_matrix)):\n",
    "        if np.isin(true_indices[i], I[i]).any():\n",
    "            correct += 1\n",
    "        else:\n",
    "            unfinded_celebs.append(names_list[i])\n",
    "    \n",
    "    return correct / total, unfinded_celebs"
   ]
  },
  {
   "cell_type": "code",
   "execution_count": null,
   "id": "66f1c987",
   "metadata": {},
   "outputs": [
    {
     "name": "stdout",
     "output_type": "stream",
     "text": [
      "Top-5 Accuracy: 89.26%\n"
     ]
    }
   ],
   "source": [
    "accuracy, missing_celebs = top_accuracy_faiss(loaded_index, test_embeddings, 10)\n",
    "print(f\"Top-5 Accuracy: {accuracy:.2%}\")"
   ]
  },
  {
   "cell_type": "code",
   "execution_count": null,
   "id": "95fb110f",
   "metadata": {},
   "outputs": [],
   "source": [
    "import pandas as pd\n",
    "celebs_df = pd.read_csv('C:/face_dataset/celeb_names.csv')\n",
    "missing_df = celebs_df[celebs_df['id'].isin(missing_celebs)].copy()"
   ]
  },
  {
   "cell_type": "code",
   "execution_count": null,
   "id": "228a7a2a",
   "metadata": {},
   "outputs": [],
   "source": [
    "missing_df[missing_df['number_of_images'] > 50]"
   ]
  },
  {
   "cell_type": "code",
   "execution_count": null,
   "id": "b2bb8114",
   "metadata": {},
   "outputs": [],
   "source": [
    "import matplotlib.pyplot as plt\n",
    "plt.figure(figsize=(20, 12))\n",
    "missing_df['number_of_images'].value_counts().sort_index().plot(kind='bar')\n",
    "\n",
    "for i, count in enumerate(missing_df['number_of_images'].value_counts().sort_index()):\n",
    "    plt.text(i, count + 5, str(count), ha='center')\n",
    "plt.show()"
   ]
  }
 ],
 "metadata": {
  "kernelspec": {
   "display_name": ".venv",
   "language": "python",
   "name": "python3"
  },
  "language_info": {
   "codemirror_mode": {
    "name": "ipython",
    "version": 3
   },
   "file_extension": ".py",
   "mimetype": "text/x-python",
   "name": "python",
   "nbconvert_exporter": "python",
   "pygments_lexer": "ipython3",
   "version": "3.13.0"
  }
 },
 "nbformat": 4,
 "nbformat_minor": 5
}
