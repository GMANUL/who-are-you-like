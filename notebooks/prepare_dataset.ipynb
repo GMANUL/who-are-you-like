{
 "cells": [
  {
   "cell_type": "code",
   "execution_count": 1,
   "id": "92fafaa3",
   "metadata": {},
   "outputs": [],
   "source": [
    "import scipy\n",
    "import pandas as pd\n",
    "import numpy as np\n",
    "import os\n",
    "import torchvision.transforms as tt\n",
    "import PIL\n",
    "from tqdm import tqdm"
   ]
  },
  {
   "cell_type": "code",
   "execution_count": null,
   "id": "c4990e47",
   "metadata": {},
   "outputs": [],
   "source": [
    "imdb_mat_file = scipy.io.loadmat(\"C:/face_dataset/imdb_crop/imdb.mat\")\n",
    "imdb_data = imdb_mat_file['imdb'][0, 0]\n",
    "print(imdb_data.dtype.names)"
   ]
  },
  {
   "cell_type": "code",
   "execution_count": 3,
   "id": "d2f34c5c",
   "metadata": {},
   "outputs": [],
   "source": [
    "def create_df_from_mat(data, fields):\n",
    "\n",
    "    df_dict = {}\n",
    "\n",
    "    for field in fields:\n",
    "        field_data = data[field].squeeze()\n",
    "        \n",
    "        if field_data.dtype.kind in {'O', 'U', 'S'}:\n",
    "            processed = []\n",
    "            for item in field_data:\n",
    "                if isinstance(item, np.ndarray):\n",
    "                    processed.append(str(item[0]) if item.size > 0 else \"\")\n",
    "                else:\n",
    "                    processed.append(str(item))\n",
    "            field_data = np.array(processed)\n",
    "\n",
    "        df_dict[field] = field_data\n",
    "\n",
    "    df_from_mat = pd.DataFrame(df_dict)\n",
    "    return df_from_mat"
   ]
  },
  {
   "cell_type": "code",
   "execution_count": null,
   "id": "0987167e",
   "metadata": {},
   "outputs": [],
   "source": [
    "fields = ['full_path', 'name', 'face_score', 'second_face_score', 'celeb_id']\n",
    "imdb_df = create_df_from_mat(imdb_data, fields)\n",
    "imdb_df"
   ]
  },
  {
   "cell_type": "code",
   "execution_count": null,
   "id": "5f405664",
   "metadata": {},
   "outputs": [],
   "source": [
    "clean_imdb = imdb_df[imdb_df['face_score'] > 0].copy()\n",
    "clean_imdb.fillna({'second_face_score': 0}, inplace=True)\n",
    "clean_imdb = clean_imdb[clean_imdb['second_face_score'] == 0]\n",
    "clean_imdb"
   ]
  },
  {
   "cell_type": "code",
   "execution_count": null,
   "id": "4744eaa9",
   "metadata": {},
   "outputs": [],
   "source": [
    "number_of_each_celebrity  = clean_imdb['celeb_id'].value_counts()\n",
    "non_unique_celebs = number_of_each_celebrity[number_of_each_celebrity >= 5].index\n",
    "clean_imdb = clean_imdb[clean_imdb['celeb_id'].isin(non_unique_celebs)]\n",
    "clean_imdb = clean_imdb.sort_values('celeb_id')\n",
    "clean_imdb"
   ]
  },
  {
   "cell_type": "code",
   "execution_count": null,
   "id": "3766fe9c",
   "metadata": {},
   "outputs": [],
   "source": [
    "dict_for_celeb_df = {\"name\" : [], \"id\" : [], \"number_of_images\" : []}\n",
    "for celeb_id in clean_imdb['celeb_id'].unique():\n",
    "    celeb_name = clean_imdb.iloc[(clean_imdb['celeb_id'] == celeb_id).argmax()].loc['name']\n",
    "    dict_for_celeb_df['name'].append(celeb_name)\n",
    "    dict_for_celeb_df['id'].append(celeb_id)\n",
    "    dict_for_celeb_df['number_of_images'].append(number_of_each_celebrity[celeb_id])\n",
    "celeb_names_df = pd.DataFrame(dict_for_celeb_df)\n",
    "celeb_names_df"
   ]
  },
  {
   "cell_type": "code",
   "execution_count": 11,
   "id": "94085f89",
   "metadata": {},
   "outputs": [],
   "source": [
    "celeb_names_df.to_csv('data/celeb_names.csv', index=True)"
   ]
  },
  {
   "cell_type": "code",
   "execution_count": null,
   "id": "41880484",
   "metadata": {},
   "outputs": [],
   "source": [
    "celeb_names_list = celeb_names_df['name'].tolist()\n",
    "celeb_names_list"
   ]
  },
  {
   "cell_type": "code",
   "execution_count": 15,
   "id": "a6f813d9",
   "metadata": {},
   "outputs": [],
   "source": [
    "with open ('../imdb_dataset/celeb_names.txt', 'w', encoding=\"utf-8\") as file:\n",
    "    file.writelines(f\"{item}\\n\" for item in celeb_names_list)"
   ]
  },
  {
   "cell_type": "code",
   "execution_count": 16,
   "id": "8e4afd6c",
   "metadata": {},
   "outputs": [],
   "source": [
    "def transform_image(input_image, new_image_size):\n",
    "    transform =tt.Compose([\n",
    "    tt.Resize(new_image_size),\n",
    "    tt.CenterCrop(new_image_size)])\n",
    "    return transform(input_image)\n",
    "\n",
    "def save_image(file_path_end, sourse_dir, person_dir, image_index=1, new_image_size=256):\n",
    "    full_file_path = sourse_dir + file_path_end\n",
    "    image = PIL.Image.open(full_file_path).convert(\"RGB\")\n",
    "    resized_image = transform_image(image, new_image_size)\n",
    "    resized_image.save(f\"{person_dir}/{image_index}.jpg\")\n",
    "\n",
    "\n",
    "def make_person_directories(describe_df, sourse_dir, train_dir, test_dir):\n",
    "    for new_celeb_id, celeb_id in tqdm(enumerate(describe_df['celeb_id'].unique())):\n",
    "        person_dir_train = os.path.join(train_dir, str(new_celeb_id))\n",
    "        os.makedirs(person_dir_train, exist_ok=True)\n",
    "        person_dir_test = os.path.join(test_dir, str(new_celeb_id))\n",
    "        os.makedirs(person_dir_test, exist_ok=True)\n",
    "\n",
    "        person_data = describe_df[describe_df['celeb_id'] == celeb_id].sort_values(by='face_score', ascending=False)\n",
    "        test_file_path = person_data['full_path'].iloc[0]\n",
    "        save_image(test_file_path, sourse_dir, person_dir_test)\n",
    "\n",
    "        for index in range(1, person_data.shape[0]):\n",
    "            file_path_end = person_data['full_path'].iloc[index]\n",
    "            save_image(file_path_end, sourse_dir, person_dir_train, index, new_image_size=256)\n",
    "\n",
    "            if index == 100:\n",
    "                break"
   ]
  },
  {
   "cell_type": "code",
   "execution_count": 27,
   "id": "5a4a3d64",
   "metadata": {},
   "outputs": [
    {
     "name": "stderr",
     "output_type": "stream",
     "text": [
      "6380it [14:13,  7.48it/s]\n"
     ]
    }
   ],
   "source": [
    "sourse_directory = \"C:/face_dataset/imdb_crop/\"\n",
    "train_directory = \"C:/face_dataset/imdb_train_newindex/\"\n",
    "test_directory = \"C:/face_dataset/imdb_test_newindex/\"\n",
    "\n",
    "make_person_directories(clean_imdb, sourse_directory, train_dir=train_directory, test_dir=test_directory)"
   ]
  }
 ],
 "metadata": {
  "kernelspec": {
   "display_name": ".venv",
   "language": "python",
   "name": "python3"
  },
  "language_info": {
   "codemirror_mode": {
    "name": "ipython",
    "version": 3
   },
   "file_extension": ".py",
   "mimetype": "text/x-python",
   "name": "python",
   "nbconvert_exporter": "python",
   "pygments_lexer": "ipython3",
   "version": "3.13.0"
  }
 },
 "nbformat": 4,
 "nbformat_minor": 5
}
